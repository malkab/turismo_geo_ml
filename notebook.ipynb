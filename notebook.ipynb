{
  "nbformat": 4,
  "nbformat_minor": 0,
  "metadata": {
    "colab": {
      "name": "Untitled1.ipynb",
      "provenance": []
    },
    "kernelspec": {
      "name": "python3",
      "display_name": "Python 3"
    },
    "language_info": {
      "name": "python"
    }
  },
  "cells": [
    {
      "cell_type": "markdown",
      "source": [
        "# Información Geográfica y Machine Learning: un ejemplo de modelo de ayuda a la toma de decisiones en la expansión de alojamientos turísticos\n",
        "\n",
        "En este Jupyter Notebook (versión Colab de Google) se va explicar, paso a paso, la elaboración de un modelo territorial orientado a la toma de decisiones en una operación de expansión de alojamientos turísticos.\n",
        "\n",
        "\n",
        "## Jupyter Notebooks y Google Colab\n",
        "\n",
        "Esta herramienta que estamos utilizando se llama **Jupyter Notebook**, en su versión cloud patrocinada y hospedada por Google, llamado **Google Colab** (o Colaboratory). Los Jupyter Notebooks son una herramienta muy arraigada en el ecosistema Python (aunque el modelo ha sido exportado a otros entornos, como JavaScript, por ejemplo, o R). Los objetivos de esta herramienta son básicamente dos:\n",
        "\n",
        "- establecer un entorno **interactivo** de computación en Python que facilita la exploración de datos y código;\n",
        "- tiene una orientación eminentemente didáctica, puesto que permite combinar celdas (como esta) de texto enriquecido para articular una explicación con otras de código Python ejecutable.\n",
        "\n",
        "Esta versión Colab de Jupyter se ejecuta en máquinas en la nube de Google. Su uso es gratuíto y puede escalar, con pago por uso o demanda, a entornos más potentes si se precisa.\n",
        "\n",
        "Cuando se arranca un Notebook Colab / Jupyter, éste arranca en una máquina de Google y ejecuta su código sobre un **kernel** Python, es decir, un intérprete de Python con el que podemos interaccionar, cargándole datos y definiendo operaciones sobre ellos. Por ejemplo, en la siguiente celda de código Python definimos dos variables en la memoria del kernel, **a** y **b**:"
      ],
      "metadata": {
        "id": "M2Ccn0bgDrBh"
      }
    },
    {
      "cell_type": "code",
      "execution_count": 3,
      "metadata": {
        "id": "w6gDC4L56_fG"
      },
      "outputs": [],
      "source": [
        "a = 1\n",
        "b = 10"
      ]
    },
    {
      "cell_type": "markdown",
      "source": [
        "Y en la siguiente celda de código realizamos una operación interactiva con ellos:"
      ],
      "metadata": {
        "id": "cjmjB7G5Fwwm"
      }
    },
    {
      "cell_type": "code",
      "source": [
        "a + b"
      ],
      "metadata": {
        "id": "ujsO7meg9dqe",
        "outputId": "aac2a88e-45d2-4c15-dff6-f72010c6cc84",
        "colab": {
          "base_uri": "https://localhost:8080/"
        }
      },
      "execution_count": 5,
      "outputs": [
        {
          "output_type": "execute_result",
          "data": {
            "text/plain": [
              "11"
            ]
          },
          "metadata": {},
          "execution_count": 5
        }
      ]
    },
    {
      "cell_type": "markdown",
      "source": [
        "Sin embargo, como el objetivo de la sesión es metodológico y no técnico, evitaremos en la medida de lo posible el código Python encapsulandolo en una librería escrita en un módulo aparte. Dicho módulo está disponible en el repositorio de origen de este Notebook [https://github.com/malkab/turismo_geo_ml/](https://github.com/malkab/turismo_geo_ml/) en la carpeta D: XXX."
      ],
      "metadata": {
        "id": "8J_ALhxrF9lr"
      }
    },
    {
      "cell_type": "code",
      "source": [
        ""
      ],
      "metadata": {
        "id": "yfMRcTC8GVCs"
      },
      "execution_count": null,
      "outputs": []
    }
  ]
}