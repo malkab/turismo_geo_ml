{
  "nbformat": 4,
  "nbformat_minor": 0,
  "metadata": {
    "colab": {
      "name": "notebook.ipynb",
      "provenance": [],
      "include_colab_link": true
    },
    "kernelspec": {
      "name": "python3",
      "display_name": "Python 3"
    },
    "language_info": {
      "name": "python"
    }
  },
  "cells": [
    {
      "cell_type": "markdown",
      "metadata": {
        "id": "view-in-github",
        "colab_type": "text"
      },
      "source": [
        "<a href=\"https://colab.research.google.com/github/malkab/turismo_geo_ml/blob/develop/notebook.ipynb\" target=\"_parent\"><img src=\"https://colab.research.google.com/assets/colab-badge.svg\" alt=\"Open In Colab\"/></a>"
      ]
    },
    {
      "cell_type": "markdown",
      "source": [
        "# Información Geográfica y Machine Learning: un ejemplo de modelo de ayuda a la toma de decisiones en la expansión de alojamientos turísticos\n",
        "\n",
        "En este Jupyter Notebook (versión Colab de Google) se va explicar, paso a paso, la elaboración de un modelo territorial orientado a la toma de decisiones en una operación de expansión de alojamientos turísticos.\n",
        "\n",
        "\n",
        "## Jupyter Notebooks y Google Colab\n",
        "\n",
        "Esta herramienta que estamos utilizando se llama **Jupyter Notebook**, en su versión cloud patrocinada y hospedada por Google, llamado **Google Colab** (o Colaboratory). Los Jupyter Notebooks son una herramienta muy arraigada en el ecosistema Python (aunque el modelo ha sido exportado a otros entornos, como JavaScript, por ejemplo, o R). Los objetivos de esta herramienta son básicamente dos:\n",
        "\n",
        "- establecer un entorno **interactivo** de computación en Python que facilita la exploración de datos y código;\n",
        "- tiene una orientación eminentemente didáctica, puesto que permite combinar celdas (como esta) de texto enriquecido para articular una explicación con otras de código Python ejecutable.\n",
        "\n",
        "Esta versión Colab de Jupyter se ejecuta en máquinas en la nube de Google. Su uso es gratuíto y puede escalar, con pago por uso o demanda, a entornos más potentes si se precisa.\n",
        "\n",
        "Cuando se arranca un Notebook Colab / Jupyter, éste arranca en una máquina de Google y ejecuta su código sobre un **kernel** Python, es decir, un intérprete de Python con el que podemos interaccionar, cargándole datos y definiendo operaciones sobre ellos. Por ejemplo, en la siguiente celda de código Python definimos dos variables en la memoria del kernel, **a** y **b**:"
      ],
      "metadata": {
        "id": "M2Ccn0bgDrBh"
      }
    },
    {
      "cell_type": "code",
      "execution_count": null,
      "metadata": {
        "id": "w6gDC4L56_fG"
      },
      "outputs": [],
      "source": [
        "a = 1\n",
        "b = 10"
      ]
    },
    {
      "cell_type": "markdown",
      "source": [
        "Y en la siguiente celda de código realizamos una operación interactiva con ellos:"
      ],
      "metadata": {
        "id": "cjmjB7G5Fwwm"
      }
    },
    {
      "cell_type": "code",
      "source": [
        "a + b"
      ],
      "metadata": {
        "id": "ujsO7meg9dqe"
      },
      "execution_count": null,
      "outputs": []
    },
    {
      "cell_type": "markdown",
      "source": [
        "Sin embargo, como el objetivo de la sesión es metodológico y no técnico, evitaremos en la medida de lo posible el código Python encapsulandolo en una librería escrita en un módulo aparte. Dicho módulo está disponible en el repositorio de origen de este Notebook [https://github.com/malkab/turismo_geo_ml/](https://github.com/malkab/turismo_geo_ml/) en la carpeta D: XXX."
      ],
      "metadata": {
        "id": "8J_ALhxrF9lr"
      }
    },
    {
      "cell_type": "code",
      "source": [
        "# D:\n",
        "\n",
        "!wget -P /content/lib --no-check-certificate --no-proxy \\\n",
        "'https://raw.githubusercontent.com/malkab/turismo_geo_ml/develop/lib/__init__.py' \\\n",
        "'https://raw.githubusercontent.com/malkab/turismo_geo_ml/develop/lib/turismoml.py'"
      ],
      "metadata": {
        "id": "f4FkzcCwJO-0"
      },
      "execution_count": null,
      "outputs": []
    },
    {
      "cell_type": "code",
      "source": [
        ""
      ],
      "metadata": {
        "id": "9jQEeN3dJ437"
      },
      "execution_count": null,
      "outputs": []
    }
  ]
}